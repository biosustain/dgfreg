{
 "cells": [
  {
   "cell_type": "markdown",
   "id": "8d283bb3",
   "metadata": {},
   "source": [
    "# Analysis of the results\n",
    "\n",
    "This notebook investigates the results of running this analysis.\n",
    "\n",
    "## Imports and hardcoded variables"
   ]
  },
  {
   "cell_type": "code",
   "execution_count": null,
   "id": "4ec3a2b5",
   "metadata": {},
   "outputs": [],
   "source": [
    "import json\n",
    "import os\n",
    "from pathlib import Path\n",
    "\n",
    "import arviz as az\n",
    "import numpy as np\n",
    "import pandas as pd\n",
    "import scipy\n",
    "import xarray\n",
    "\n",
    "from matplotlib import pyplot as plt\n",
    "from pprint import pprint\n",
    "\n",
    "from equilibrator_api import ComponentContribution\n",
    "from dgfreg.data_preparation import load_prepared_data\n",
    "\n",
    "INFERENCES_DIR = os.path.join(\"..\", \"inferences\")\n",
    "PLOTS_DIR = os.path.join(\"..\", \"docs\", \"plots\")\n",
    "ARVIZ_STYLE = \"arviz-redish\"\n",
    "\n",
    "plt.style.use(ARVIZ_STYLE)"
   ]
  },
  {
   "cell_type": "markdown",
   "id": "c51c09cb",
   "metadata": {},
   "source": [
    "## Loading InferenceData objects\n",
    "\n",
    "The results of the analysis are stored as [`InferenceData`](https://arviz-devs.github.io/arviz/api/generated/arviz.InferenceData.html#arviz.InferenceData) objects in json files. The next cell loads these files."
   ]
  },
  {
   "cell_type": "code",
   "execution_count": null,
   "id": "5630a977",
   "metadata": {},
   "outputs": [],
   "source": [
    "idata_c = az.from_json(os.path.join(INFERENCES_DIR, \"equilibrator_component\", \"idata.json\"))\n",
    "idata_c"
   ]
  },
  {
   "cell_type": "markdown",
   "id": "efafb26d-e769-4a47-be99-744c45394a24",
   "metadata": {},
   "source": [
    "## Extracting draws"
   ]
  },
  {
   "cell_type": "code",
   "execution_count": null,
   "id": "f4d82a14-9170-4763-834c-28735546847c",
   "metadata": {},
   "outputs": [],
   "source": [
    "# idata_c = idatas[\"equilibrator_component\"]\n",
    "\n",
    "idata_c.observed_data.coords[\"observation\"] = idata_c.posterior_predictive.coords[\"observation\"]\n",
    "idata_c.observed_data[\"y\"] = idata_c.observed_data[\"y\"].rename({\"y_dim_0\": \"observation\"})\n",
    "\n",
    "dgfC_draws = idata_c.posterior[\"dgfC\"]\n",
    "dgfG_draws = idata_c.posterior[\"dgfG\"]\n",
    "dgr_draws = idata_c.posterior[\"dgr\"]\n",
    "\n",
    "dgfC_qs = dgfC_draws.quantile([0.01, 0.5, 0.99], dim=[\"chain\", \"draw\"]).to_series().unstack(\"quantile\").add_prefix(\"q\")\n",
    "dgfC_qs.index = dgfC_qs.index.astype(int)\n",
    "\n",
    "dgr_qs = dgr_draws.quantile([0.01, 0.5, 0.99], dim=[\"chain\", \"draw\"]).to_series().unstack(\"quantile\").add_prefix(\"q\")\n",
    "dgr_qs.index = dgr_qs.index.astype(int)\n",
    "\n",
    "yrep_qs = idata_c.posterior_predictive[\"yrep\"].quantile([0.01, 0.5, 0.99], dim=[\"chain\", \"draw\"]).to_series().unstack(\"quantile\").add_prefix(\"yrepq\")\n",
    "yrep_qs.index = dgr_qs.index.astype(int)\n",
    "\n",
    "resids = idata_c.posterior_predictive[\"yrep\"] - idata_c.observed_data[\"y\"]\n",
    "resid_qs = resids.quantile([0.01, 0.5, 0.99], dim=[\"chain\", \"draw\"]).to_series().unstack(\"quantile\").add_prefix(\"resid_q\")\n",
    "resid_qs.index = resid_qs.index.astype(int)\n",
    "resid_qs = resid_qs.rename_axis(\"reaction_id\")\n",
    "resid_mean = idata_c.posterior_predictive[\"yrep\"].mean(dim=[\"chain\", \"draw\"]) - idata_c.observed_data[\"y\"]\n",
    "\n",
    "az.summary(idata_c, var_names=[\"tauC\", \"sigma\", \"mae\"])"
   ]
  },
  {
   "cell_type": "markdown",
   "id": "444029f0-2731-4f0c-9ea8-45c9fba99413",
   "metadata": {},
   "source": [
    "## Gathering component contribution information"
   ]
  },
  {
   "cell_type": "code",
   "execution_count": null,
   "id": "d18c5312-6d15-41ff-ba31-c378b7500460",
   "metadata": {},
   "outputs": [],
   "source": [
    "cc = ComponentContribution()"
   ]
  },
  {
   "cell_type": "code",
   "execution_count": null,
   "id": "e60f706f-01e7-446a-88a0-6e2680e6212c",
   "metadata": {},
   "outputs": [],
   "source": [
    "cc_cov = pd.read_csv(Path.cwd().parent / \"data\" / \"raw\" / \"dgf_cov.csv\").rename(columns={\"Unnamed: 0\": \"compound_id\"}).set_index(\"compound_id\")\n",
    "cc_cov.columns = map(int, cc_cov.columns)\n",
    "sd_cc = pd.Series(np.sqrt(np.diag(cc_cov)), index=cc_cov.index).rename(\"sd_cc\")\n",
    "\n",
    "dgr_gc = (cc.predictor.params.train_G.T @ cc.predictor.params.train_S).T @ cc.predictor.params.dG0_gc\n",
    "dgr_cc = cc.predictor.params.train_S.T @ cc.predictor.params.dG0_cc"
   ]
  },
  {
   "cell_type": "code",
   "execution_count": null,
   "id": "43769ad4-01ff-4315-9e6a-0191fc51bf01",
   "metadata": {},
   "outputs": [],
   "source": [
    "prepped = load_prepared_data(Path.cwd().parent / \"data\" / \"prepared\" / \"equilibrator\")\n",
    "\n",
    "measurements = prepped.measurements.set_index(\"measurement_id\")\n",
    "measurements[\"dgr_gc\"] = dgr_gc\n",
    "measurements[\"dgr_cc\"] = dgr_cc\n",
    "measurements[\"resid_cc\"] = dgr_cc - measurements[\"y\"]\n",
    "measurements[\"resid_gc\"] = dgr_gc - measurements[\"y\"]\n",
    "\n",
    "G = prepped.G.set_index([\"compound_id\", \"group_id\"])[\"stoichiometric_coefficient\"].unstack().fillna(0.0)\n",
    "S = prepped.S.set_index([\"compound_id\", \"reaction_id\"])[\"stoichiometric_coefficient\"].unstack().fillna(0.0)\n",
    "\n",
    "reactions = prepped.reactions.set_index(\"reaction_id\")\n",
    "reactions[\"conserves_groups\"] = (G.T @ S).abs().sum() == 0\n",
    "if \"q0.5\" not in reactions.columns:\n",
    "    reactions = reactions.join(dgr_qs)\n",
    "if \"resid_q0.5\" not in reactions.columns:\n",
    "    reactions = reactions.join(resid_qs)\n",
    "reactions[\"resid_mean\"] = resid_mean\n",
    "reactions[\"dgr_cc\"] = measurements.groupby(\"reaction_id\")[\"dgr_cc\"].first()\n",
    "reactions[\"dgr_gc\"] = measurements.groupby(\"reaction_id\")[\"dgr_gc\"].first()\n",
    "reactions = reactions.join(measurements.groupby(\"reaction_id\").agg({\"y\": [\"mean\", \"count\"]})[\"y\"].add_prefix(\"y_\"))\n",
    "\n",
    "if \"q0.5\" not in measurements.columns:\n",
    "    measurements = measurements.join(resid_qs, on=\"reaction_id\")\n",
    "\n",
    "compounds = prepped.compounds.set_index(\"compound_id\")\n",
    "compounds[\"sd_cc\"] = sd_cc\n",
    "compounds[\"q0.01_cc\"], compounds[\"q0.99_cc\"] = compounds[\"dgf_cc\"] - 2.33 * sd_cc, compounds[\"dgf_cc\"] + 2.33 * sd_cc\n",
    "if \"q0.5\" not in compounds.columns:\n",
    "    compounds = compounds.join(dgfC_qs)\n",
    "compounds.head()"
   ]
  },
  {
   "cell_type": "code",
   "execution_count": null,
   "id": "d7d8e645-1144-4c2a-ac79-40359ab63f3f",
   "metadata": {},
   "outputs": [],
   "source": [
    "cc_cov_long = (\n",
    "    cc_cov.mask(np.triu(np.ones(cc_cov.shape)).astype(bool))\n",
    "    .stack()\n",
    "    .sort_values()\n",
    "    .reset_index()\n",
    "    .rename(columns={\"compound_id\": \"compound_id_1\", \"level_1\": \"compound_id_2\", 0: \"covariance\"})\n",
    "    .assign(compound_id_2=lambda df: df[\"compound_id_2\"].astype(int))\n",
    ")\n",
    "core_mets = compounds.loc[lambda df: df[\"is_e_coli_ccm\"]].index\n",
    "(\n",
    "    cc_cov_long\n",
    "    .loc[lambda df: df[\"compound_id_1\"].isin(core_mets)]\n",
    "    .tail(20)\n",
    "    .join(compounds[[\"common_name\", \"is_e_coli_ccm\"]], on=\"compound_id_1\")\n",
    "    .join(compounds[[\"common_name\", \"is_e_coli_ccm\"]], on=\"compound_id_2\", lsuffix=\"_1\", rsuffix=\"_2\")\n",
    ")\n",
    "\n"
   ]
  },
  {
   "cell_type": "markdown",
   "id": "e53e6bff-2331-4008-9ed7-0212dd46acfd",
   "metadata": {},
   "source": [
    "## Add model information to measurements dataframe"
   ]
  },
  {
   "cell_type": "code",
   "execution_count": null,
   "id": "d4b27d3b-2dc5-4ed0-b880-fdcc87651d2a",
   "metadata": {},
   "outputs": [],
   "source": [
    "if \"q0.01\" not in measurements.columns:\n",
    "    measurements = measurements.join(dgr_qs, on=\"reaction_id\")\n",
    "if \"yrepq0.01\" not in measurements.columns:\n",
    "    measurements = measurements.join(yrep_qs, on=\"reaction_id\")\n",
    "if \"resid_mean\" in measurements.columns:\n",
    "    measurements = measurements.drop(\"resid_mean\", axis=1)\n",
    "measurements = measurements.join(reactions[\"resid_mean\"], on=\"reaction_id\")"
   ]
  },
  {
   "cell_type": "code",
   "execution_count": null,
   "id": "95f5aca2-9b80-427a-b231-49d7d28b4baf",
   "metadata": {},
   "outputs": [],
   "source": [
    "rmse_posterior = measurements[[\"resid_mean\", \"resid_cc\"]].pow(2).mean().pipe(np.sqrt)\n",
    "\n",
    "f, ax = plt.subplots(figsize=[8, 5])\n",
    "bins = np.linspace(-25, 25, 50)\n",
    "ax.hist(\n",
    "    measurements[\"resid_mean\"], \n",
    "    bins=bins, \n",
    "    alpha=0.7,\n",
    "    density=True, \n",
    "    label=f\"Posterior predictive mean\\nRMSE {rmse_posterior['resid_mean'].round(1)}\"\n",
    ");\n",
    "ax.hist(\n",
    "    measurements[\"resid_cc\"], \n",
    "    color=\"orange\", bins=bins, \n",
    "    alpha=0.7, \n",
    "    density=True, \n",
    "    label=f\"Component contribution estimate\\nRMSE {rmse_posterior['resid_cc'].round(1)}\"\n",
    ");\n",
    "ax.set(\n",
    "    title=\"Our model fits the TECRDB data about as well as component contribution\",\n",
    "    ylabel=\"Relative frequency in training measurements\",\n",
    "    xlabel=\"$\\Delta_rG$ residual (kJ/mol)\"\n",
    ");\n",
    "ax.legend(frameon=False);\n",
    "f.savefig(os.path.join(PLOTS_DIR, \"in_sample_rmse_comparison.svg\"), bbox_inches=\"tight\");\n"
   ]
  },
  {
   "cell_type": "code",
   "execution_count": null,
   "id": "392680fc-9345-4725-8e72-a0f184c82823",
   "metadata": {},
   "outputs": [],
   "source": [
    "grouped = measurements.groupby(\"reaction_id\")\n",
    "\n",
    "measurements_by_reaction = (\n",
    "    reactions[[\"is_e_coli_ccm\", \"description\", \"q0.01\", \"q0.5\", \"q0.99\", \"dgr_cc\"]]\n",
    "    .join(grouped.agg({\"y\": [\"mean\", \"count\"]})[\"y\"].add_prefix(\"y_\"))\n",
    "    .assign(\n",
    "        resid_low=lambda df: df[\"q0.01\"] - df[\"y_mean\"],\n",
    "        resid_high=lambda df: df[\"q0.99\"] - df[\"y_mean\"],\n",
    "        resid_med=lambda df: df[\"q0.5\"] - df[\"y_mean\"],\n",
    "        resid_cc=lambda df: df[\"dgr_cc\"] - df[\"y_mean\"]\n",
    "    )\n",
    ")\n",
    "\n",
    "f, axes = plt.subplots(2, 1, figsize=[15, 10])\n",
    "\n",
    "for ccm_only, ax in zip([False, True], axes):\n",
    "    plot_df = measurements_by_reaction.loc[lambda df: df[\"is_e_coli_ccm\"]] if ccm_only else measurements_by_reaction\n",
    "    plot_df = plot_df.sort_values(\"resid_med\")\n",
    "    x = np.linspace(*ax.get_xlim(), len(plot_df))\n",
    "    vlines = ax.vlines(x, plot_df[\"resid_low\"], plot_df[\"resid_high\"], label=\"1%-99% posterior predictive interval\");\n",
    "    hline = ax.axhline(0, color=\"black\", linestyle=\"--\")\n",
    "    scatter = ax.scatter(x, plot_df[\"resid_cc\"], color=\"orange\", zorder=2, marker=\"x\", label=\"Component contribution\");\n",
    "    ax.set_xticks([])\n",
    "    ax.set(\n",
    "        title=\"E coli core reactions\" if ccm_only else \"All reactions\",\n",
    "        ylabel=\"Residual\"\n",
    "    )\n",
    "    if ccm_only:\n",
    "        for i, (ix, row) in enumerate(plot_df.iterrows()):\n",
    "            if row[\"resid_low\"] > 2 or row[\"resid_high\"] < -1:\n",
    "                ax.text(x[i], row[\"resid_low\"], row[\"description\"], fontsize=8)\n",
    "f.legend(\n",
    "    [vlines, scatter],\n",
    "    [\"1%-99% posterior predictive interval\", \"Component contribution estimate\"], \n",
    "    frameon=False, \n",
    "    loc=\"upper center\",\n",
    "    bbox_to_anchor=[0.5, 0.95],\n",
    "    ncol=2,\n",
    ");\n",
    "f.suptitle(\"Posterior predictive check\", fontsize=16);\n",
    "\n",
    "f.savefig(os.path.join(PLOTS_DIR, \"marginal_ppc.svg\"), bbox_inches=\"tight\");\n"
   ]
  },
  {
   "cell_type": "code",
   "execution_count": null,
   "id": "fdea3bee-3016-49ee-9b6e-8b1fb33b4018",
   "metadata": {},
   "outputs": [],
   "source": [
    "f, ax = plt.subplots(figsize=[15, 5])\n",
    "az.plot_ppc(idata_c, data_pairs={\"y\": \"yrep\"}, var_names=[\"y\"], ax=ax);\n",
    "ax.set_xlim(-100, 150);\n",
    "f.savefig(os.path.join(PLOTS_DIR, \"ppc_kde.svg\"), bbox_inches=\"tight\");"
   ]
  },
  {
   "cell_type": "markdown",
   "id": "63c3af28-26b7-4879-a594-8e3aadfaee8e",
   "metadata": {},
   "source": [
    "## Plots of interesting parameters"
   ]
  },
  {
   "cell_type": "code",
   "execution_count": null,
   "id": "8a5288f2-3aee-4156-8d8d-c95f6125ab97",
   "metadata": {},
   "outputs": [],
   "source": [
    "vars = [\"tauC\", \"sigma\"]\n",
    "priors = {\"tauC\": [0, 4], \"sigma\": [0, 4]}\n",
    "\n",
    "az.plot_posterior(idata_c, var_names=vars, kind=\"hist\", label=\"posterior draws\", hdi_prob=\"hide\");\n",
    "\n",
    "f = plt.gcf()\n",
    "axes = f.get_axes()\n",
    "for ax, var in zip(axes, vars):\n",
    "    loc, scale = priors[var]\n",
    "    dist = scipy.stats.norm(loc=loc, scale=scale).pdf(x)\n",
    "    x = np.linspace(*ax.get_xlim(), 50)\n",
    "    ax.legend(frameon=False)\n",
    "\n",
    "f.savefig(os.path.join(PLOTS_DIR, \"posteriors.svg\"), bbox_inches=\"tight\");"
   ]
  },
  {
   "cell_type": "markdown",
   "id": "10fccd27-9598-464a-99dc-1d3335268152",
   "metadata": {},
   "source": [
    "## Gaussian approximation of posterior distribution\n",
    "\n",
    "These tables can be used if you would like a Gaussian approximation to the $\\Delta_fG$ posterior distributions from our model."
   ]
  },
  {
   "cell_type": "code",
   "execution_count": null,
   "id": "686cb3c8-15fc-4129-bd8e-d28c07b0b848",
   "metadata": {},
   "outputs": [],
   "source": [
    "mean = dgfC_draws.mean(dim=[\"chain\", \"draw\"]).to_series().rename(\"mean\")\n",
    "cov = pd.DataFrame(np.cov(dgfC_draws.to_dataframe().unstack([\"chain\", \"draw\"])), index=compounds.index, columns=compounds.index)\n",
    "\n",
    "mean.to_csv(os.path.join(INFERENCES_DIR, \"gaussian_approximation_mean.csv\"))\n",
    "cov.to_csv(os.path.join(INFERENCES_DIR, \"gaussian_approximation_cov.csv\"))\n",
    "\n",
    "ccm = compounds.loc[lambda df: df[\"is_e_coli_ccm\"]].index.values\n",
    "\n",
    "display(mean)\n",
    "display(cov)"
   ]
  },
  {
   "cell_type": "code",
   "execution_count": null,
   "id": "c856f4b0-ab0c-43e0-b5a0-0e86f3eec709",
   "metadata": {},
   "outputs": [],
   "source": [
    "print(f\"Shape of formation energy covariance matrix: {cov.shape}\")\n",
    "print(f\"Rank of component contribution formation energy covariance matrix: {np.linalg.matrix_rank(cc_cov)}\")\n",
    "print(f\"Rank of new model formation energy covariance matrix: {np.linalg.matrix_rank(cov)}\")"
   ]
  },
  {
   "cell_type": "markdown",
   "id": "22366e66-27a6-47fe-a426-0cb56876cb10",
   "metadata": {},
   "source": [
    "## Comparison with component contribution"
   ]
  },
  {
   "cell_type": "markdown",
   "id": "ae3366da-da17-4685-9459-fc64268547d6",
   "metadata": {},
   "source": [
    "First I wanted to find how many *E. coli* core reactions conserved chemical groups."
   ]
  },
  {
   "cell_type": "code",
   "execution_count": null,
   "id": "37671d13-e129-4ca9-a012-27a64afaa9b0",
   "metadata": {},
   "outputs": [],
   "source": [
    "bad = reactions.loc[lambda df: df[\"conserves_groups\"], [\"description\", \"EC\"]]\n",
    "\n",
    "bad_e_coli_core =  reactions.loc[lambda df: df[\"conserves_groups\"] & df[\"is_e_coli_ccm\"], [\"description\", \"EC\"]]\n",
    "\n",
    "display(len(bad))\n",
    "display(bad_e_coli_core)"
   ]
  },
  {
   "cell_type": "code",
   "execution_count": null,
   "id": "17ac6ac9-2403-4afa-9ff3-14e160b0b9b2",
   "metadata": {},
   "outputs": [],
   "source": [
    "f, axes = plt.subplots(1, 2, figsize=[10, 8])\n",
    "for ccm_only, ax in zip([True, False], axes):\n",
    "    plot_df = compounds if not ccm_only else compounds.loc[lambda df: df[\"is_e_coli_ccm\"]]\n",
    "    plot_df = plot_df.sort_values(\"sd_cc\")\n",
    "    y = np.linspace(*ax.get_ylim(), len(plot_df))\n",
    "    model_lines = ax.hlines(\n",
    "        y,\n",
    "        plot_df[\"q0.01\"] - plot_df[\"dgf_cc\"],\n",
    "        plot_df[\"q0.99\"] - plot_df[\"dgf_cc\"],\n",
    "        alpha=0.8,\n",
    "    )\n",
    "    cc_lines = ax.hlines(\n",
    "        y, \n",
    "        plot_df[\"q0.01_cc\"] - plot_df[\"dgf_cc\"], \n",
    "        plot_df[\"q0.99_cc\"] - plot_df[\"dgf_cc\"],\n",
    "        color=\"orange\", \n",
    "        alpha=0.8,\n",
    "    )\n",
    "    equal_line = ax.axvline(0, color=\"black\")\n",
    "    if ccm_only:\n",
    "        ticks = axes[0].set_yticks(y)\n",
    "        txt = axes[0].set_yticklabels(plot_df[\"common_name\"])\n",
    "    ax.set(xlabel=\"Difference from cc estimate (kJ/mol)\", title=\"E coli core compounds\" if ccm_only else \"All compounds\")\n",
    "leg = f.legend(\n",
    "    [model_lines, cc_lines, equal_line],\n",
    "    [\"Hierarchical model\", \"Component contribution\", \"Component contribution estimate\"],\n",
    "    ncol=3,\n",
    "    frameon=False,\n",
    "    loc=\"lower center\"\n",
    ")\n",
    "suptitle = f.suptitle(\"1%-99% marginal formation energy uncertainty intervals\", fontsize=16, y=0.95)\n",
    "\n",
    "f.savefig(os.path.join(PLOTS_DIR, \"marginal_dgf_comparison.svg\"), bbox_inches=\"tight\");"
   ]
  },
  {
   "cell_type": "code",
   "execution_count": null,
   "id": "a3ad37bb-578a-4f1c-b264-c1e08c403157",
   "metadata": {},
   "outputs": [],
   "source": [
    "f, ax = plt.subplots()\n",
    "\n",
    "ax.vlines(compounds[\"dgf_cc\"], compounds[\"q0.01\"], compounds[\"q0.99\"], label=\"1%-99% posterior interval\");\n",
    "ax.plot([*ax.get_xlim()], [*ax.get_xlim()], color=\"black\", label=\"y=x\");\n",
    "ax.set(\n",
    "    title=\"Overall agreement between formation energy estimates\",\n",
    "    xlabel=\"CC estimate (kJ/mol)\",\n",
    "    ylabel=\"New model estimate (kJ/mol)\"\n",
    ")\n",
    "ax.legend(frameon=False);\n",
    "f.savefig(os.path.join(PLOTS_DIR, \"dgf_comparison_scatter.svg\"), bbox_inches=\"tight\");"
   ]
  },
  {
   "cell_type": "code",
   "execution_count": null,
   "id": "db8665a2-1886-41be-a72c-519705c53517",
   "metadata": {},
   "outputs": [],
   "source": [
    "widths_model = compounds[\"q0.99\"] - compounds[\"q0.01\"]\n",
    "widths_cc = compounds[\"q0.99_cc\"] - compounds[\"q0.01_cc\"]\n",
    "med_model = widths_model.mean()\n",
    "med_cc = widths_cc.mean()\n",
    "\n",
    "f, ax = plt.subplots(figsize=[7, 5])\n",
    "bins = np.linspace(0, 200, 50)\n",
    "ax.set(\n",
    "    title=\"Distribution of formation energy 1%-99% uncertainty quantile widths\",\n",
    "    ylabel=\"Relative frequency\",\n",
    "    xlabel=\"1%-99% marginal uncertainty quantile width (kJ/mol)\"\n",
    ")\n",
    "ax.hist(widths_model, density=True, bins=bins, alpha=0.8, label=\"model\");\n",
    "ax.hist(widths_cc, color=\"orange\", density=True, bins=bins, alpha=0.8, label=\"Component Contribution\");\n",
    "ax.axvline(med_model, label=\"mean (model)\")\n",
    "ax.axvline(med_cc, color=\"orange\", label=\"mean (Component Contribution)\")\n",
    "ax.legend(frameon=False);\n",
    "f.savefig(os.path.join(PLOTS_DIR, \"marginal_width_hists.svg\"), bbox_inches=\"tight\");"
   ]
  },
  {
   "cell_type": "markdown",
   "id": "6ac2aa1d-f2db-402b-ba94-1594b557765c",
   "metadata": {},
   "source": [
    "# Out of sample case study"
   ]
  },
  {
   "cell_type": "markdown",
   "id": "3677d2ce-3d94-44dc-bc61-373dcb907956",
   "metadata": {},
   "source": [
    "To see how the new model compares with component contribution when modelling unseen compounds, we constructed a custom test dataset.\n",
    "\n",
    "The test dataset removes from the standard training dataset all reactions involving the compounds D-Glucose 6-phosphate, Phosphoenolpyruvate and Acetyl-CoA."
   ]
  },
  {
   "cell_type": "code",
   "execution_count": null,
   "id": "1e2e861b-8672-457a-9330-72d0bba0c85f",
   "metadata": {},
   "outputs": [],
   "source": [
    "from dgfreg.component_contribution_replication import fit_component_contribution\n",
    "excluded_compounds = [23, 70, 152]\n",
    "excluded_reactions = (\n",
    "    S\n",
    "    .loc[excluded_compounds]\n",
    "    .replace(0, np.nan)\n",
    "    .stack()\n",
    "    .reset_index()\n",
    "    [\"reaction_id\"]\n",
    "    .unique()\n",
    ")\n",
    "test_y = measurements.loc[lambda df: ~df[\"reaction_id\"].isin(excluded_reactions)]\n",
    "test_S = cc.predictor.params.train_S[test_y.index]\n",
    "cc_test_fit = fit_component_contribution(test_S, G, test_y)\n",
    "\n",
    "if \"dgr_cc_test\" in measurements.columns:\n",
    "    measurements = measurements.drop(\"dgr_cc_test\", axis=1)\n",
    "measurements = measurements.join((S.T @ cc_test_fit.mu_dgf).rename(\"dgr_cc_test\"), on=\"reaction_id\")\n",
    "measurements[\"resid_cc_test\"] = measurements[\"dgr_cc_test\"] - measurements[\"y\"]\n",
    "\n",
    "if \"dgr_cc_test\" in reactions.columns:\n",
    "    reactions = reactions.drop(\"dgr_cc_test\", axis=1)\n",
    "reactions = reactions.join((S.T @ cc_test_fit.mu_dgf).rename(\"dgr_cc_test\"), on=\"reaction_id\")\n",
    "reactions[\"resid_cc_test\"] = reactions[\"dgr_cc_test\"] - reactions[\"y_mean\"]"
   ]
  },
  {
   "cell_type": "code",
   "execution_count": null,
   "id": "883c737c-298c-4492-a78b-45058dc906b8",
   "metadata": {},
   "outputs": [],
   "source": [
    "test_y.shape, measurements.shape"
   ]
  },
  {
   "cell_type": "code",
   "execution_count": null,
   "id": "63e1b3af-416e-4417-ba8e-9b3ecb1c054b",
   "metadata": {},
   "outputs": [],
   "source": [
    "idata_test = az.from_json(os.path.join(INFERENCES_DIR, \"equilibrator_custom_test\", \"idata.json\"))\n",
    "idata_test.posterior_predictive[\"yrep\"] = idata_test.posterior_predictive[\"yrep\"].rename({\"observation\": \"reaction_id\"})\n",
    "idata_test.posterior_predictive.coords[\"reaction_id\"] = idata_test.posterior_predictive.coords[\"reaction_id\"] + 1\n",
    "\n",
    "az.summary(idata_test, var_names=[\"tauC\", \"sigma\", \"mae\"])"
   ]
  },
  {
   "cell_type": "code",
   "execution_count": null,
   "id": "862c2e6c-0b6e-4229-844f-5e677af0461e",
   "metadata": {},
   "outputs": [],
   "source": [
    "yrep_qs_test = idata_test.posterior_predictive[\"yrep\"].quantile([0.01, 0.5, 0.99], dim=[\"chain\", \"draw\"]).to_series().unstack(\"quantile\").add_prefix(\"yrep_q\").add_suffix(\"_test\")\n",
    "yrep_qs_test.index = yrep_qs_test.index.astype(int)\n",
    "yrep_mean_test = idata_test.posterior_predictive[\"yrep\"].mean(dim=[\"chain\", \"draw\"])\n",
    "\n",
    "resids_test = idata_test.posterior_predictive[\"yrep\"] - reactions[\"y_mean\"].values\n",
    "resid_qs_test = resids_test.quantile([0.01, 0.5, 0.99], dim=[\"chain\", \"draw\"]).to_series().unstack(\"quantile\").add_prefix(\"resid_q\").add_suffix(\"_test\")\n",
    "resid_qs_test.index = resid_qs_test.index.astype(int)\n",
    "resid_qs_test = resid_qs_test.rename_axis(\"reaction_id\")\n",
    "\n",
    "if \"yrep_q0.5_test\" not in reactions.columns:\n",
    "    reactions = reactions.join(yrep_qs_test)\n",
    "if \"resid_q0.5_test\" not in reactions.columns:\n",
    "    reactions = reactions.join(resid_qs_test)\n",
    "reactions[\"yrep_mean_test\"] = yrep_mean_test\n",
    "reactions[\"resid_yrep_mean_test\"] = reactions[\"yrep_mean_test\"] - reactions[\"y_mean\"]\n",
    "\n",
    "if \"yrep_mean_test\" not in measurements.columns:\n",
    "    measurements = measurements.join(reactions[\"yrep_mean_test\"], on=\"reaction_id\")\n",
    "measurements[\"resid_yrep_mean_test\"] = measurements[\"y\"] - measurements[\"yrep_mean_test\"]\n",
    "rmse_test = measurements[[\"resid_cc_test\", \"resid_yrep_mean_test\"]].drop(test_y.index).pow(2).mean().pipe(np.sqrt)\n",
    "rmse_test"
   ]
  },
  {
   "cell_type": "code",
   "execution_count": null,
   "id": "0d951056-f2be-4897-bfa0-69014f343e42",
   "metadata": {},
   "outputs": [],
   "source": [
    "test_resid_diffs = (\n",
    "    measurements[[\"resid_cc_test\", \"resid_yrep_mean_test\"]]\n",
    "    .drop(test_y.index)\n",
    "    .abs()\n",
    "    .diff(axis=1)\n",
    "    [\"resid_yrep_mean_test\"]\n",
    ")\n",
    "outlier = test_resid_diffs.sort_values().iloc[0]\n",
    "\n",
    "f, ax = plt.subplots()\n",
    "bins = np.linspace(-20, 20, 23)\n",
    "ax.hist(\n",
    "    test_resid_diffs,\n",
    "    bins=bins,\n",
    "    label=\"\"\n",
    ");\n",
    "ax.annotate(\n",
    "    f\"One outlier not shown\\n(value {round(outlier, 1)})\", \n",
    "    xy=[-22, 30],\n",
    "    xytext=[-19, 25],\n",
    "    arrowprops={\"arrowstyle\": \"->\"},\n",
    "    fontsize=\"small\"\n",
    ");\n",
    "ax.text(-20, 175, \"Measurements where our model\\nmade a better prediction\", fontsize=\"small\")\n",
    "ax.text(2, 175, \"Measurements where component\\ncontribution made a better prediction\", fontsize=\"small\")\n",
    "ax.axvline(0, color=\"black\", linestyle=\"--\")\n",
    "ax.set(\n",
    "    title=\"Distribution of absolute residual differences for test measurements\\n(our model - component contribution)\",\n",
    "    ylabel=\"Frequency\",\n",
    "    xlabel=\"Difference in absolute residuals (kJ/mol)\"\n",
    ");\n",
    "f.savefig(os.path.join(PLOTS_DIR, \"out_of_sample_residual_hist.svg\"), bbox_inches=\"tight\");"
   ]
  },
  {
   "cell_type": "code",
   "execution_count": null,
   "id": "43e9d627-e554-4068-8dbf-84459d731e31",
   "metadata": {},
   "outputs": [],
   "source": [
    "dgfC_draws_test = idata_test.posterior[\"dgfC\"]\n",
    "cov_test = pd.DataFrame(np.cov(dgfC_draws_test.to_dataframe().unstack([\"chain\", \"draw\"])), index=compounds.index, columns=compounds.index)\n",
    "\n",
    "print(f\"Shape of formation energy covariance matrix: {cov_test.shape}\")\n",
    "print(f\"Rank of new model formation energy covariance matrix when fit to test dataset: {np.linalg.matrix_rank(cov_test)}\")\n",
    "print(f\"Rank of component contribution formation energy covariance matrix when fit to test dataset: {np.linalg.matrix_rank(cc_test_fit.cov_dgf)}\")\n"
   ]
  },
  {
   "cell_type": "code",
   "execution_count": null,
   "id": "6719b8b8-14f6-4266-ac7b-1f8da0c32a7f",
   "metadata": {},
   "outputs": [],
   "source": [
    "plot_df = reactions.loc[excluded_reactions].sort_values(\"resid_q0.5_test\").iloc[:-1]\n",
    "rmse_cc, rmse_new = rmse_test\n",
    "\n",
    "f, ax = plt.subplots(figsize=[6, 8])\n",
    "y = np.linspace(*ax.get_ylim(), len(plot_df))\n",
    "\n",
    "\n",
    "# lines = ax.hlines(y-0.005, test_resid_qs_measurement.loc[ix, \"q0.01\"], test_resid_qs_measurement.loc[ix, \"q0.99\"])\n",
    "red_lines = ax.hlines(y+0.005, plot_df[\"resid_q0.01_test\"], plot_df[\"resid_q0.99_test\"], alpha=0.8)\n",
    "scatter_red = ax.scatter(plot_df[\"resid_yrep_mean_test\"], y+0.005, zorder=3)\n",
    "\n",
    "scatter_orange = ax.scatter(plot_df[\"resid_cc_test\"], y, color=\"orange\", marker=\"x\", zorder=3)\n",
    "\n",
    "ax.axvline(0, linestyle=\"--\", color=\"black\")\n",
    "ax.set_yticks(y);\n",
    "ax.set_yticklabels(plot_df[\"description\"], fontsize=8);\n",
    "# ax.set_xlabel(\"1%-99% posterior predictive interval: $\\Delta_rG$ residual (kJ/mol)\")\n",
    "f.legend(\n",
    "    [red_lines, scatter_red, scatter_orange],\n",
    "    [\"1%-99% posterior predictive interval\", \"Posterior mean\", \"Component contribution\"],\n",
    "    frameon=False, \n",
    "    # ncol=3, \n",
    "    bbox_to_anchor=[0.12, 0.885],\n",
    "    fontsize=\"x-small\",\n",
    "    loc=\"upper left\"\n",
    ")\n",
    "ax.set_xlabel(\"$\\Delta_rG$ residual (kJ/mol)\")\n",
    "ax.text(-42, 0.9, \"(RMSE figures include an\\noutlier reaction that isn't\\nshown in this figure)\", fontsize=\"x-small\")\n",
    "f.suptitle(\"Predictive performance on reactions excluded from the training dataset\", x=-0.1, y=0.92);\n",
    "\n",
    "f.savefig(os.path.join(PLOTS_DIR, \"out_of_sample_reaction_residuals.svg\"), bbox_inches=\"tight\");\n"
   ]
  },
  {
   "cell_type": "code",
   "execution_count": null,
   "id": "dfa08e14-c886-4251-8f80-421ee3482e2f",
   "metadata": {},
   "outputs": [],
   "source": []
  }
 ],
 "metadata": {
  "kernelspec": {
   "display_name": "Python 3 (ipykernel)",
   "language": "python",
   "name": "python3"
  },
  "language_info": {
   "codemirror_mode": {
    "name": "ipython",
    "version": 3
   },
   "file_extension": ".py",
   "mimetype": "text/x-python",
   "name": "python",
   "nbconvert_exporter": "python",
   "pygments_lexer": "ipython3",
   "version": "3.11.1"
  }
 },
 "nbformat": 4,
 "nbformat_minor": 5
}
